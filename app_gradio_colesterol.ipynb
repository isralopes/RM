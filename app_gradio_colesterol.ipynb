{
 "cells": [
  {
   "cell_type": "code",
   "execution_count": 1,
   "metadata": {},
   "outputs": [
    {
     "name": "stderr",
     "output_type": "stream",
     "text": [
      "c:\\Users\\isra_\\.virtualenvs\\regressao_multipla-kmxZ1yKs\\Lib\\site-packages\\tqdm\\auto.py:21: TqdmWarning: IProgress not found. Please update jupyter and ipywidgets. See https://ipywidgets.readthedocs.io/en/stable/user_install.html\n",
      "  from .autonotebook import tqdm as notebook_tqdm\n"
     ]
    }
   ],
   "source": [
    "import gradio as gr\n",
    "import joblib\n",
    "import pandas as pd\n"
   ]
  },
  {
   "cell_type": "code",
   "execution_count": 2,
   "metadata": {},
   "outputs": [],
   "source": [
    "modelo = joblib.load('./modelo_colesterol.pkl')"
   ]
  },
  {
   "cell_type": "code",
   "execution_count": 3,
   "metadata": {},
   "outputs": [],
   "source": [
    "def predict(grupo_sangunio,fumante,nivel_atividade_fisica,idade,peso,altura):\n",
    "    predicao_individual = {\n",
    "    'grupo_sangunio': grupo_sangunio,\n",
    "    'fumante': fumante,\n",
    "    'nivel_atividade_fisica': nivel_atividade_fisica,\n",
    "    'idade': idade,\n",
    "    'peso': peso,\n",
    "    'altura': altura\n",
    "}\n",
    "    predict_df = pd.DataFrame(predicao_individual, index=[1])\n",
    "    colesterol = modelo.predict(predict_df)\n",
    "    return colesterol.reshape(-1)\n",
    "\n"
   ]
  },
  {
   "cell_type": "code",
   "execution_count": 4,
   "metadata": {},
   "outputs": [],
   "source": [
    "demo = gr.Interface(\n",
    "fn=predict,\n",
    "inputs=[\n",
    "    gr.Radio(['O', 'A', 'B', 'AB']),\n",
    "    'checkbox',\n",
    "    gr.Radio(['Baixo', 'Moderado', 'Alto']),\n",
    "    gr.Slider(20, 80, step=1),\n",
    "    gr.Slider(40,160, step=0.1),\n",
    "    gr.Slider(150,200, step=1)],\n",
    "outputs=['number']\n",
    "    \n",
    ")"
   ]
  },
  {
   "cell_type": "code",
   "execution_count": 5,
   "metadata": {},
   "outputs": [
    {
     "name": "stdout",
     "output_type": "stream",
     "text": [
      "Running on local URL:  http://127.0.0.1:7860\n",
      "\n",
      "To create a public link, set `share=True` in `launch()`.\n"
     ]
    },
    {
     "data": {
      "text/html": [
       "<div><iframe src=\"http://127.0.0.1:7860/\" width=\"100%\" height=\"500\" allow=\"autoplay; camera; microphone; clipboard-read; clipboard-write;\" frameborder=\"0\" allowfullscreen></iframe></div>"
      ],
      "text/plain": [
       "<IPython.core.display.HTML object>"
      ]
     },
     "metadata": {},
     "output_type": "display_data"
    },
    {
     "data": {
      "text/plain": []
     },
     "execution_count": 5,
     "metadata": {},
     "output_type": "execute_result"
    }
   ],
   "source": [
    "import numpy as np\n",
    "import pandas as pd\n",
    "import gradio as gr\n",
    "import joblib\n",
    "\n",
    "# Carregar o modelo\n",
    "modelo = joblib.load('./modelo_colesterol.pkl')\n",
    "\n",
    "# Função de previsão\n",
    "def predict(grupo_sangunio, fumante, nivel_atividade_fisica, idade, peso, altura):\n",
    "    predicao_individual = {\n",
    "    'grupo_sangunio': grupo_sangunio,\n",
    "    'fumante': fumante,\n",
    "    'nivel_atividade_fisica': nivel_atividade_fisica,\n",
    "    'idade': idade,\n",
    "    'peso': peso,\n",
    "    'altura': altura\n",
    "}\n",
    "    # Criar um DataFrame com uma única linha contendo os dados de entrada\n",
    "    predict_df = pd.DataFrame(predicao_individual, index=[0])\n",
    "\n",
    "    # Tratar valores ausentes\n",
    "    predict_df.fillna(value='valor_padrao', inplace=True)  # Substitua 'valor_padrao' pelo valor que você deseja usar para preencher os valores ausentes\n",
    "\n",
    "    # Fazer a previsão\n",
    "    colesterol = modelo.predict(predict_df)\n",
    "    return float(colesterol[0])  # Converter para float antes de retornar\n",
    "\n",
    "# Interface demo\n",
    "interface_demo = gr.Interface(\n",
    "    fn=predict,\n",
    "    inputs=[\n",
    "        gr.Radio(['O', 'A', 'B', 'AB'], label=\"Grupo Sanguíneo\"),\n",
    "        gr.Checkbox(label=\"Fumante\"),\n",
    "        gr.Radio(['Baixo', 'Moderado', 'Alto'], label=\"Nível de Atividade Física\"),\n",
    "        gr.Slider(20, 80, step=1, label=\"Idade\"),\n",
    "        gr.Slider(40, 160, step=0.1, label=\"Peso\"),\n",
    "        gr.Slider(150, 200, step=1, label=\"Altura\")\n",
    "    ],\n",
    "    outputs='number'\n",
    ")\n",
    "\n",
    "# Executar a interface\n",
    "interface_demo.launch()\n"
   ]
  },
  {
   "cell_type": "code",
   "execution_count": 6,
   "metadata": {},
   "outputs": [
    {
     "name": "stdout",
     "output_type": "stream",
     "text": [
      "Rerunning server... use `close()` to stop if you need to change `launch()` parameters.\n",
      "----\n",
      "\n",
      "Could not create share link. Please check your internet connection or our status page: https://status.gradio.app.\n"
     ]
    },
    {
     "data": {
      "text/html": [
       "<div><iframe src=\"http://127.0.0.1:7860/\" width=\"100%\" height=\"500\" allow=\"autoplay; camera; microphone; clipboard-read; clipboard-write;\" frameborder=\"0\" allowfullscreen></iframe></div>"
      ],
      "text/plain": [
       "<IPython.core.display.HTML object>"
      ]
     },
     "metadata": {},
     "output_type": "display_data"
    },
    {
     "data": {
      "text/plain": []
     },
     "execution_count": 6,
     "metadata": {},
     "output_type": "execute_result"
    }
   ],
   "source": [
    "interface_demo.launch(share=True)"
   ]
  }
 ],
 "metadata": {
  "kernelspec": {
   "display_name": "regressao_multipla-kmxZ1yKs",
   "language": "python",
   "name": "python3"
  },
  "language_info": {
   "codemirror_mode": {
    "name": "ipython",
    "version": 3
   },
   "file_extension": ".py",
   "mimetype": "text/x-python",
   "name": "python",
   "nbconvert_exporter": "python",
   "pygments_lexer": "ipython3",
   "version": "3.12.0"
  }
 },
 "nbformat": 4,
 "nbformat_minor": 2
}
